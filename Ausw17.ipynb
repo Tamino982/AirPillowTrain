{
 "cells": [
  {
   "cell_type": "code",
   "execution_count": 2,
   "metadata": {},
   "outputs": [
    {
     "name": "stderr",
     "output_type": "stream",
     "text": [
      "┌ Info: Precompiling XLSX [fdbf4ff8-1666-58a4-91e7-1b58723a45e0]\n",
      "└ @ Base loading.jl:1260\n"
     ]
    }
   ],
   "source": [
    "using DataFrames, CSV, XLSX\n",
    "using Optim\n",
    "using PyPlot"
   ]
  },
  {
   "cell_type": "markdown",
   "metadata": {},
   "source": [
    "# Read data from xlsx"
   ]
  },
  {
   "cell_type": "code",
   "execution_count": 3,
   "metadata": {},
   "outputs": [
    {
     "data": {
      "text/plain": [
       "XLSXFile(\"Ausw17.xlsx\") containing 1 Worksheet\n",
       "            sheetname size          range        \n",
       "-------------------------------------------------\n",
       "        Auswertung 17 79x8          A1:H79       \n"
      ]
     },
     "execution_count": 3,
     "metadata": {},
     "output_type": "execute_result"
    }
   ],
   "source": [
    "fname = \"Ausw17.xlsx\"\n",
    "\n",
    "f = XLSX.readxlsx(fname)"
   ]
  },
  {
   "cell_type": "code",
   "execution_count": 4,
   "metadata": {},
   "outputs": [
    {
     "data": {
      "text/html": [
       "<table class=\"data-frame\"><thead><tr><th></th><th>time</th><th>pos</th></tr><tr><th></th><th>Any</th><th>Float64</th></tr></thead><tbody><p>4 rows × 2 columns</p><tr><th>1</th><td>0</td><td>0.858483</td></tr><tr><th>2</th><td>0.0333333</td><td>0.85912</td></tr><tr><th>3</th><td>0.0666667</td><td>0.860149</td></tr><tr><th>4</th><td>0.1</td><td>0.861316</td></tr></tbody></table>"
      ],
      "text/latex": [
       "\\begin{tabular}{r|cc}\n",
       "\t& time & pos\\\\\n",
       "\t\\hline\n",
       "\t& Any & Float64\\\\\n",
       "\t\\hline\n",
       "\t1 & 0 & 0.858483 \\\\\n",
       "\t2 & 0.0333333 & 0.85912 \\\\\n",
       "\t3 & 0.0666667 & 0.860149 \\\\\n",
       "\t4 & 0.1 & 0.861316 \\\\\n",
       "\\end{tabular}\n"
      ],
      "text/plain": [
       "4×2 DataFrame\n",
       "│ Row │ time      │ pos      │\n",
       "│     │ \u001b[90mAny\u001b[39m       │ \u001b[90mFloat64\u001b[39m  │\n",
       "├─────┼───────────┼──────────┤\n",
       "│ 1   │ 0         │ 0.858483 │\n",
       "│ 2   │ 0.0333333 │ 0.85912  │\n",
       "│ 3   │ 0.0666667 │ 0.860149 │\n",
       "│ 4   │ 0.1       │ 0.861316 │"
      ]
     },
     "execution_count": 4,
     "metadata": {},
     "output_type": "execute_result"
    }
   ],
   "source": [
    "car1 = DataFrame(XLSX.readtable(fname, \"Auswertung 17\", \"A:B\", \n",
    "        column_labels = [\"time\", \"pos\"],\n",
    "        infer_eltypes = true\n",
    "            )...)\n",
    "first(car1, 4)"
   ]
  },
  {
   "cell_type": "code",
   "execution_count": 5,
   "metadata": {},
   "outputs": [
    {
     "data": {
      "text/html": [
       "<table class=\"data-frame\"><thead><tr><th></th><th>time</th><th>pos</th></tr><tr><th></th><th>Float64</th><th>Float64</th></tr></thead><tbody><p>4 rows × 2 columns</p><tr><th>1</th><td>0.0</td><td>0.858483</td></tr><tr><th>2</th><td>0.0333333</td><td>0.85912</td></tr><tr><th>3</th><td>0.0666667</td><td>0.860149</td></tr><tr><th>4</th><td>0.1</td><td>0.861316</td></tr></tbody></table>"
      ],
      "text/latex": [
       "\\begin{tabular}{r|cc}\n",
       "\t& time & pos\\\\\n",
       "\t\\hline\n",
       "\t& Float64 & Float64\\\\\n",
       "\t\\hline\n",
       "\t1 & 0.0 & 0.858483 \\\\\n",
       "\t2 & 0.0333333 & 0.85912 \\\\\n",
       "\t3 & 0.0666667 & 0.860149 \\\\\n",
       "\t4 & 0.1 & 0.861316 \\\\\n",
       "\\end{tabular}\n"
      ],
      "text/plain": [
       "4×2 DataFrame\n",
       "│ Row │ time      │ pos      │\n",
       "│     │ \u001b[90mFloat64\u001b[39m   │ \u001b[90mFloat64\u001b[39m  │\n",
       "├─────┼───────────┼──────────┤\n",
       "│ 1   │ 0.0       │ 0.858483 │\n",
       "│ 2   │ 0.0333333 │ 0.85912  │\n",
       "│ 3   │ 0.0666667 │ 0.860149 │\n",
       "│ 4   │ 0.1       │ 0.861316 │"
      ]
     },
     "execution_count": 5,
     "metadata": {},
     "output_type": "execute_result"
    }
   ],
   "source": [
    "car1.time = float.(car1.time)\n",
    "first(car1, 4)"
   ]
  },
  {
   "cell_type": "code",
   "execution_count": null,
   "metadata": {},
   "outputs": [],
   "source": [
    "car2 = DataFrame(XLSX.readtable(fname, \"Auswertung 17\", \"F:G\", \n",
    "        column_labels = [\"time\", \"pos\"],\n",
    "        infer_eltypes = true\n",
    "            )...)\n",
    "first(car2, 4)"
   ]
  },
  {
   "cell_type": "code",
   "execution_count": null,
   "metadata": {},
   "outputs": [],
   "source": [
    "car2.time = float.(car2.time)\n",
    "first(car2, 4)"
   ]
  },
  {
   "cell_type": "code",
   "execution_count": null,
   "metadata": {},
   "outputs": [],
   "source": [
    "scatter(car1.time, car1.pos, label = \"car 1\")\n",
    "scatter(car2.time, car2.pos, label = \"car 2\")\n",
    "legend()"
   ]
  },
  {
   "cell_type": "markdown",
   "metadata": {},
   "source": [
    "# Modelling"
   ]
  },
  {
   "cell_type": "code",
   "execution_count": null,
   "metadata": {},
   "outputs": [],
   "source": [
    "function two_piece_linear(x, para)\n",
    "    n   = para[1]\n",
    "    m1  = para[2]\n",
    "    m2  = para[3]\n",
    "    x12 = para[4]\n",
    "    if x < x12\n",
    "        n + m1 * x\n",
    "    else\n",
    "        n + m1 * x12 + m2 * (x - x12)\n",
    "    end\n",
    "end"
   ]
  },
  {
   "cell_type": "code",
   "execution_count": null,
   "metadata": {},
   "outputs": [],
   "source": [
    "scatter(car1.time, car1.pos, label = \"car 1\")\n",
    "scatter(car2.time, car2.pos, label = \"car 2\")\n",
    "\n",
    "\n",
    "# car 1\n",
    "times = 0:0.01:2.5\n",
    "para1 = [0.85, 0.06, 0.3, 1.1]\n",
    "model_car1 = map(t -> two_piece_linear(t, para1), times)\n",
    "plot(times, model_car1, color = \"lightblue\", label = \"model 1\")\n",
    "\n",
    "# car 2\n",
    "para2 = [0.0, 0.4, 0.1, 1.2]\n",
    "model_car2 = map(t -> two_piece_linear(t, para2), times)\n",
    "plot(times, model_car2, color = \"red\", label = \"model 2\")\n",
    "\n",
    "legend()"
   ]
  },
  {
   "cell_type": "markdown",
   "metadata": {},
   "source": [
    "## Parameter fitting"
   ]
  },
  {
   "cell_type": "code",
   "execution_count": null,
   "metadata": {},
   "outputs": [],
   "source": [
    "function sum_residuals_squared(observed_data, model_parameter)\n",
    "    t = observed_data[1]\n",
    "    x = observed_data[2]\n",
    "    \n",
    "    model_x = map(t -> two_piece_linear(t, model_parameter), t)\n",
    "    \n",
    "    sum((x .- model_x) .^ 2)\n",
    "end"
   ]
  },
  {
   "cell_type": "code",
   "execution_count": null,
   "metadata": {},
   "outputs": [],
   "source": []
  },
  {
   "cell_type": "code",
   "execution_count": null,
   "metadata": {},
   "outputs": [],
   "source": [
    "observed_data = [car1.time, car1.pos]\n",
    "likelihood(model_parameter) = sum_residuals_squared(observed_data, model_parameter)\n",
    "@show res = optimize(likelihood, para1)\n",
    "para1 = Optim.minimizer(res)"
   ]
  },
  {
   "cell_type": "code",
   "execution_count": null,
   "metadata": {},
   "outputs": [],
   "source": [
    "observed_data = [car2.time, car2.pos]\n",
    "likelihood(model_parameter) = sum_residuals_squared(observed_data, model_parameter)\n",
    "@show res = optimize(likelihood, para2)\n",
    "para2 = Optim.minimizer(res)"
   ]
  },
  {
   "cell_type": "code",
   "execution_count": null,
   "metadata": {},
   "outputs": [],
   "source": [
    "scatter(car1.time, car1.pos, label = \"car 1\")\n",
    "scatter(car2.time, car2.pos, label = \"car 2\")\n",
    "\n",
    "\n",
    "# car 1\n",
    "times = 0:0.01:2.5\n",
    "model_car1 = map(t -> two_piece_linear(t, para1), times)\n",
    "plot(times, model_car1, color = \"lightblue\", label = \"model 1\")\n",
    "\n",
    "# car 2\n",
    "model_car2 = map(t -> two_piece_linear(t, para2), times)\n",
    "plot(times, model_car2, color = \"red\", label = \"model 2\")\n",
    "legend()"
   ]
  },
  {
   "cell_type": "code",
   "execution_count": null,
   "metadata": {},
   "outputs": [],
   "source": [
    "@show x12_1 = para1[4] \n",
    "@show x12_2 = para2[4]\n",
    "x12_1 -x12_2"
   ]
  },
  {
   "cell_type": "code",
   "execution_count": null,
   "metadata": {},
   "outputs": [],
   "source": [
    "m1 = 1; m2 = 1\n",
    "@show p_before = m1 * para1[2] + m2 * para2[2]\n",
    "@show p_after  = m1 * para1[3] + m2 * para2[3];"
   ]
  },
  {
   "cell_type": "code",
   "execution_count": null,
   "metadata": {},
   "outputs": [],
   "source": [
    "(p_before - p_after) / ((p_before + p_after) / 2)"
   ]
  },
  {
   "cell_type": "code",
   "execution_count": null,
   "metadata": {},
   "outputs": [],
   "source": [
    "@show E_before = m1 * para1[2]^2 / 2 + m2 * para2[2]^2 / 2\n",
    "@show E_after  = m1 * para1[3]^2 / 2 + m2 * para2[3]^2 / 2"
   ]
  },
  {
   "cell_type": "code",
   "execution_count": null,
   "metadata": {},
   "outputs": [],
   "source": []
  },
  {
   "cell_type": "code",
   "execution_count": null,
   "metadata": {},
   "outputs": [],
   "source": []
  },
  {
   "cell_type": "code",
   "execution_count": null,
   "metadata": {},
   "outputs": [],
   "source": []
  },
  {
   "cell_type": "code",
   "execution_count": null,
   "metadata": {},
   "outputs": [],
   "source": [
    "filter!(row -> row.time < 1.0 || row.time > 1.5, car1 );\n",
    "filter!(row -> row.time < 1.0 || row.time > 1.5, car2 );"
   ]
  },
  {
   "cell_type": "code",
   "execution_count": null,
   "metadata": {},
   "outputs": [],
   "source": []
  },
  {
   "cell_type": "code",
   "execution_count": null,
   "metadata": {},
   "outputs": [],
   "source": []
  },
  {
   "cell_type": "code",
   "execution_count": 1,
   "metadata": {},
   "outputs": [
    {
     "ename": "UndefVarError",
     "evalue": "UndefVarError: car1 not defined",
     "output_type": "error",
     "traceback": [
      "UndefVarError: car1 not defined",
      "",
      "Stacktrace:",
      " [1] top-level scope at In[1]:1"
     ]
    }
   ],
   "source": [
    "car1"
   ]
  },
  {
   "cell_type": "code",
   "execution_count": null,
   "metadata": {},
   "outputs": [],
   "source": []
  }
 ],
 "metadata": {
  "kernelspec": {
   "display_name": "Julia 1.4.2",
   "language": "julia",
   "name": "julia-1.4"
  },
  "language_info": {
   "file_extension": ".jl",
   "mimetype": "application/julia",
   "name": "julia",
   "version": "1.4.2"
  }
 },
 "nbformat": 4,
 "nbformat_minor": 4
}
