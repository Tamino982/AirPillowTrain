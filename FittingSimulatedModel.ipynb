{
 "cells": [
  {
   "cell_type": "code",
   "execution_count": 33,
   "metadata": {},
   "outputs": [
    {
     "ename": "ArgumentError",
     "evalue": "ArgumentError: Package XSLX not found in current path:\n- Run `import Pkg; Pkg.add(\"XSLX\")` to install the XSLX package.\n",
     "output_type": "error",
     "traceback": [
      "ArgumentError: Package XSLX not found in current path:\n- Run `import Pkg; Pkg.add(\"XSLX\")` to install the XSLX package.\n",
      "",
      "Stacktrace:",
      " [1] require(::Module, ::Symbol) at ./loading.jl:892",
      " [2] top-level scope at In[33]:5"
     ]
    }
   ],
   "source": [
    "using DataFrames, CSV, XLSX\n",
    "using Optim\n",
    "using PyPlot\n",
    "using Test"
   ]
  },
  {
   "cell_type": "code",
   "execution_count": 34,
   "metadata": {},
   "outputs": [
    {
     "name": "stderr",
     "output_type": "stream",
     "text": [
      "\u001b[32m\u001b[1m   Updating\u001b[22m\u001b[39m registry at `~/.julia/registries/General`\n"
     ]
    },
    {
     "name": "stdout",
     "output_type": "stream",
     "text": [
      "\u001b[?25l\u001b[2K"
     ]
    },
    {
     "name": "stderr",
     "output_type": "stream",
     "text": [
      "\u001b[32m\u001b[1m   Updating\u001b[22m\u001b[39m git-repo `https://github.com/JuliaRegistries/General.git`\n"
     ]
    },
    {
     "name": "stdout",
     "output_type": "stream",
     "text": [
      "\u001b[?25h"
     ]
    },
    {
     "name": "stderr",
     "output_type": "stream",
     "text": [
      "\u001b[32m\u001b[1m  Resolving\u001b[22m\u001b[39m package versions...\n",
      "\u001b[32m\u001b[1m   Updating\u001b[22m\u001b[39m `~/.julia/environments/v1.4/Project.toml`\n",
      "\u001b[90m [no changes]\u001b[39m\n",
      "\u001b[32m\u001b[1m   Updating\u001b[22m\u001b[39m `~/.julia/environments/v1.4/Manifest.toml`\n",
      "\u001b[90m [no changes]\u001b[39m\n"
     ]
    }
   ],
   "source": [
    "using Pkg; Pkg.add(\"XLSX\")"
   ]
  },
  {
   "cell_type": "code",
   "execution_count": 35,
   "metadata": {},
   "outputs": [],
   "source": [
    "import XLSX"
   ]
  },
  {
   "cell_type": "code",
   "execution_count": 59,
   "metadata": {},
   "outputs": [
    {
     "data": {
      "text/plain": [
       "XLSXFile(\"Charakterisierung_der_Bahn.xlsx\") containing 1 Worksheet\n",
       "            sheetname size          range        \n",
       "-------------------------------------------------\n",
       "               Blatt1 146x2         A1:B146      \n"
      ]
     },
     "execution_count": 59,
     "metadata": {},
     "output_type": "execute_result"
    }
   ],
   "source": [
    "xf = XLSX.readxlsx(\"Charakterisierung_der_Bahn.xlsx\")"
   ]
  },
  {
   "cell_type": "code",
   "execution_count": 65,
   "metadata": {},
   "outputs": [
    {
     "data": {
      "text/plain": [
       "XLSXFile(\"Charakterisierung_der_Bahn.xlsx\") containing 1 Worksheet\n",
       "            sheetname size          range        \n",
       "-------------------------------------------------\n",
       "               Blatt1 146x2         A1:B146      \n"
      ]
     },
     "execution_count": 65,
     "metadata": {},
     "output_type": "execute_result"
    }
   ],
   "source": [
    "fname = \"Charakterisierung_der_Bahn.xlsx\"\n",
    "\n",
    "f = XLSX.readxlsx(fname)"
   ]
  },
  {
   "cell_type": "code",
   "execution_count": 67,
   "metadata": {},
   "outputs": [
    {
     "data": {
      "text/html": [
       "<table class=\"data-frame\"><thead><tr><th></th><th>time</th><th>pos</th></tr><tr><th></th><th>Any</th><th>Float64</th></tr></thead><tbody><p>4 rows × 2 columns</p><tr><th>1</th><td>0.0333333</td><td>0.00780682</td></tr><tr><th>2</th><td>0.0666667</td><td>0.018943</td></tr><tr><th>3</th><td>0.1</td><td>0.0294527</td></tr><tr><th>4</th><td>0.133333</td><td>0.0406405</td></tr></tbody></table>"
      ],
      "text/latex": [
       "\\begin{tabular}{r|cc}\n",
       "\t& time & pos\\\\\n",
       "\t\\hline\n",
       "\t& Any & Float64\\\\\n",
       "\t\\hline\n",
       "\t1 & 0.0333333 & 0.00780682 \\\\\n",
       "\t2 & 0.0666667 & 0.018943 \\\\\n",
       "\t3 & 0.1 & 0.0294527 \\\\\n",
       "\t4 & 0.133333 & 0.0406405 \\\\\n",
       "\\end{tabular}\n"
      ],
      "text/plain": [
       "4×2 DataFrame\n",
       "│ Row │ time      │ pos        │\n",
       "│     │ \u001b[90mAny\u001b[39m       │ \u001b[90mFloat64\u001b[39m    │\n",
       "├─────┼───────────┼────────────┤\n",
       "│ 1   │ 0.0333333 │ 0.00780682 │\n",
       "│ 2   │ 0.0666667 │ 0.018943   │\n",
       "│ 3   │ 0.1       │ 0.0294527  │\n",
       "│ 4   │ 0.133333  │ 0.0406405  │"
      ]
     },
     "execution_count": 67,
     "metadata": {},
     "output_type": "execute_result"
    }
   ],
   "source": [
    "car1 = DataFrame(XLSX.readtable(fname, \"Blatt1\", \"A:B\", \n",
    "        column_labels = [\"time\", \"pos\"],\n",
    "        infer_eltypes = true\n",
    "            )...)\n",
    "first(car1, 4)"
   ]
  },
  {
   "cell_type": "code",
   "execution_count": 68,
   "metadata": {},
   "outputs": [
    {
     "data": {
      "text/html": [
       "<table class=\"data-frame\"><thead><tr><th></th><th>time</th><th>pos</th></tr><tr><th></th><th>Float64</th><th>Float64</th></tr></thead><tbody><p>4 rows × 2 columns</p><tr><th>1</th><td>0.0333333</td><td>0.00780682</td></tr><tr><th>2</th><td>0.0666667</td><td>0.018943</td></tr><tr><th>3</th><td>0.1</td><td>0.0294527</td></tr><tr><th>4</th><td>0.133333</td><td>0.0406405</td></tr></tbody></table>"
      ],
      "text/latex": [
       "\\begin{tabular}{r|cc}\n",
       "\t& time & pos\\\\\n",
       "\t\\hline\n",
       "\t& Float64 & Float64\\\\\n",
       "\t\\hline\n",
       "\t1 & 0.0333333 & 0.00780682 \\\\\n",
       "\t2 & 0.0666667 & 0.018943 \\\\\n",
       "\t3 & 0.1 & 0.0294527 \\\\\n",
       "\t4 & 0.133333 & 0.0406405 \\\\\n",
       "\\end{tabular}\n"
      ],
      "text/plain": [
       "4×2 DataFrame\n",
       "│ Row │ time      │ pos        │\n",
       "│     │ \u001b[90mFloat64\u001b[39m   │ \u001b[90mFloat64\u001b[39m    │\n",
       "├─────┼───────────┼────────────┤\n",
       "│ 1   │ 0.0333333 │ 0.00780682 │\n",
       "│ 2   │ 0.0666667 │ 0.018943   │\n",
       "│ 3   │ 0.1       │ 0.0294527  │\n",
       "│ 4   │ 0.133333  │ 0.0406405  │"
      ]
     },
     "execution_count": 68,
     "metadata": {},
     "output_type": "execute_result"
    }
   ],
   "source": [
    "car1.time = float.(car1.time)\n",
    "first(car1, 4)"
   ]
  },
  {
   "cell_type": "code",
   "execution_count": 71,
   "metadata": {},
   "outputs": [],
   "source": [
    "# car2 = DataFrame(XLSX.readtable(fname, \"Blatt1\", \"C:D\", \n",
    "#        column_labels = [\"time\", \"pos\"],        infer_eltypes = true\n",
    "#            )...)\n",
    "#first(car2, 4) "
   ]
  },
  {
   "cell_type": "code",
   "execution_count": null,
   "metadata": {},
   "outputs": [],
   "source": []
  },
  {
   "cell_type": "code",
   "execution_count": 82,
   "metadata": {},
   "outputs": [
    {
     "data": {
      "image/png": "[encoded data removed]",
      "text/plain": [
       "Figure(PyObject <Figure size 640x480 with 1 Axes>)"
      ]
     },
     "metadata": {},
     "output_type": "display_data"
    },
    {
     "data": {
      "text/plain": [
       "PyObject <matplotlib.legend.Legend object at 0x94d4e830>"
      ]
     },
     "execution_count": 82,
     "metadata": {},
     "output_type": "execute_result"
    }
   ],
   "source": [
    "scatter(car1.time, car1.pos, label = \"car 1\", marker =\".\")\n",
    "legend()"
   ]
  },
  {
   "cell_type": "markdown",
   "metadata": {},
   "source": [
    "function two_piece_linear(x, para)\n",
    "    n   = para[1]\n",
    "    m1  = para[2]\n",
    "    m2  = para[3]\n",
    "    x12 = para[4]\n",
    "    if x < x12\n",
    "        n + m1 * x\n",
    "    else\n",
    "        n + m1 * x12 + m2 * (x - x12)\n",
    "    end\n",
    "end"
   ]
  },
  {
   "cell_type": "code",
   "execution_count": 94,
   "metadata": {},
   "outputs": [
    {
     "data": {
      "text/plain": [
       "two_piece_linear (generic function with 1 method)"
      ]
     },
     "execution_count": 94,
     "metadata": {},
     "output_type": "execute_result"
    }
   ],
   "source": [
    "function two_piece_linear(x, para)\n",
    "    n   = para[1]\n",
    "    m1  = para[2]\n",
    "    m2  = para[3]\n",
    "    x12 = para[4]\n",
    "    if x < x12\n",
    "        n + m1 * x\n",
    "    else\n",
    "        n + m1 * x12 + m2 * (x - x12)\n",
    "    end\n",
    "end"
   ]
  },
  {
   "cell_type": "code",
   "execution_count": 100,
   "metadata": {},
   "outputs": [
    {
     "data": {
      "image/png": "[encoded data removed]",
      "text/plain": [
       "Figure(PyObject <Figure size 640x480 with 1 Axes>)"
      ]
     },
     "metadata": {},
     "output_type": "display_data"
    },
    {
     "data": {
      "text/plain": [
       "PyObject <matplotlib.legend.Legend object at 0x84e96790>"
      ]
     },
     "execution_count": 100,
     "metadata": {},
     "output_type": "execute_result"
    }
   ],
   "source": [
    "scatter(car1.time, car1.pos, label = \"car 1\")\n",
    "\n",
    "\n",
    "# car 1\n",
    "times = 0:0.01:5.0\n",
    "para1 = [0.0, 0.32, 0.32, 1.1]\n",
    "model_car1 = map(t -> two_piece_linear(t, para1), times)\n",
    "plot(times, model_car1, color = \"lightblue\", label = \"model 1\")\n",
    "\n",
    "# car 2\n",
    "#para2 = [0.0, 0.4, 0.1, 1.2]\n",
    "\n",
    "#model_car2 = map(t -> two_piece_linear(t, para2), times)\n",
    "#plot(times, model_car2, color = \"red\", label = \"model 2\")\n",
    "\n",
    "legend()"
   ]
  },
  {
   "cell_type": "code",
   "execution_count": 119,
   "metadata": {},
   "outputs": [
    {
     "data": {
      "text/html": [
       "<table class=\"data-frame\"><thead><tr><th></th><th>x1</th></tr><tr><th></th><th>Any</th></tr></thead><tbody><p>2 rows × 2 columns (omitted printing of 1 columns)</p><tr><th>1</th><td>[0.0333333, 0.0666667, 0.1, 0.133333, 0.166667, 0.2, 0.233333, 0.266667, 0.3, 0.333333, 0.366667, 0.4, 0.433333, 0.466667, 0.5, 0.533333, 0.566667, 0.6, 0.633333, 0.666667, 0.7, 0.733333, 0.766667, 0.8, 0.833333, 0.866667, 0.9, 0.933333, 0.966667, 1, 1.03333, 1.06667, 1.1, 1.13333, 1.16667, 1.2, 1.23333, 1.26667, 1.3, 1.33333, 1.36667, 1.4, 1.43333, 1.46667, 1.5, 1.53333, 1.56667, 1.6, 1.63333, 1.66667, 1.7, 1.73333, 1.76667, 1.8, 1.83333, 1.86667, 1.9, 1.93333, 1.96667, 2, 2.03333, 2.06667, 2.1, 2.13333, 2.16667, 2.2, 2.23333, 2.26667, 2.3, 2.33333, 2.36667, 2.4, 2.43333, 2.46667, 2.5, 2.53333, 2.56667, 2.6, 2.63333, 2.66667, 2.7, 2.73333, 2.76667, 2.8, 2.83333, 2.86667, 2.9, 2.93333, 2.96667, 3, 3.03333, 3.06667, 3.1, 3.13333, 3.16667, 3.2, 3.23333, 3.26667, 3.3, 3.33333, 3.36667, 3.4, 3.43333, 3.46667, 3.5, 3.53333, 3.56667, 3.6, 3.63333, 3.66667, 3.7, 3.73333, 3.76667, 3.8, 3.83333, 3.86667, 3.9, 3.93333, 3.96667, 4, 4.03333, 4.06667, 4.1, 4.13333, 4.16667, 4.2, 4.23333, 4.26667, 4.3, 4.33333, 4.36667, 4.4, 4.43333, 4.46667, 4.5, 4.53333, 4.56667, 4.6, 4.63333, 4.66667, 4.7, 4.73333, 4.76667, 4.8, 4.83333]</td></tr><tr><th>2</th><td>[0.00780682, 0.018943, 0.0294527, 0.0406405, 0.0512696, 0.0619471, 0.0733033, 0.0841442, 0.0951995, 0.10573, 0.117057, 0.12794, 0.138734, 0.149958, 0.161263, 0.171528, 0.182386, 0.193263, 0.204826, 0.21583, 0.227266, 0.237744, 0.248966, 0.25986, 0.27107, 0.28208, 0.292876, 0.304063, 0.315166, 0.326215, 0.337039, 0.348285, 0.359387, 0.370533, 0.381714, 0.392365, 0.403099, 0.414298, 0.425568, 0.436058, 0.447441, 0.4586, 0.469555, 0.48023, 0.49119, 0.502181, 0.512995, 0.524152, 0.534929, 0.545552, 0.556347, 0.567337, 0.578475, 0.58954, 0.599871, 0.610797, 0.621513, 0.632286, 0.642821, 0.653898, 0.664488, 0.674641, 0.68581, 0.696039, 0.70661, 0.717165, 0.727712, 0.738486, 0.749038, 0.759337, 0.7698, 0.780023, 0.790518, 0.801277, 0.811742, 0.821824, 0.832572, 0.843023, 0.853298, 0.863544, 0.874059, 0.884414, 0.89497, 0.904874, 0.915441, 0.925484, 0.935726, 0.946263, 0.956706, 0.966888, 0.977025, 0.987624, 0.998441, 1.00802, 1.01779, 1.02811, 1.03809, 1.04869, 1.05907, 1.06894, 1.07899, 1.08953, 1.09952, 1.10962, 1.11998, 1.12945, 1.13992, 1.15026, 1.15987, 1.17037, 1.18026, 1.19029, 1.20028, 1.21001, 1.22016, 1.23, 1.23996, 1.25021, 1.26017, 1.26992, 1.28006, 1.29001, 1.2997, 1.30957, 1.31964, 1.32922, 1.33884, 1.34865, 1.35889, 1.36879, 1.37891, 1.38848, 1.39888, 1.40852, 1.41843, 1.42857, 1.43799, 1.44801, 1.45859, 1.46816, 1.47823, 1.48842, 1.49802, 1.50787, 1.51777]</td></tr></tbody></table>"
      ],
      "text/latex": [
       "\\begin{tabular}{r|cc}\n",
       "\t& x1 & \\\\\n",
       "\t\\hline\n",
       "\t& Any & \\\\\n",
       "\t\\hline\n",
       "\t1 & [0.0333333, 0.0666667, 0.1, 0.133333, 0.166667, 0.2, 0.233333, 0.266667, 0.3, 0.333333  …  4.53333, 4.56667, 4.6, 4.63333, 4.66667, 4.7, 4.73333, 4.76667, 4.8, 4.83333] & $\\dots$ \\\\\n",
       "\t2 & [0.00780682, 0.018943, 0.0294527, 0.0406405, 0.0512696, 0.0619471, 0.0733033, 0.0841442, 0.0951995, 0.10573  …  1.42857, 1.43799, 1.44801, 1.45859, 1.46816, 1.47823, 1.48842, 1.49802, 1.50787, 1.51777] & $\\dots$ \\\\\n",
       "\\end{tabular}\n"
      ],
      "text/plain": [
       "2×2 DataFrame. Omitted printing of 2 columns\n",
       "│ Row │ │     │ ├─────┼\n",
       "│ 1   │ │ 2   │ "
      ]
     },
     "execution_count": 119,
     "metadata": {},
     "output_type": "execute_result"
    }
   ],
   "source": [
    "obs_data = DataFrame(XLSX.readtable(fname, \"Blatt1\", \"A:B\"))"
   ]
  },
  {
   "cell_type": "code",
   "execution_count": null,
   "metadata": {},
   "outputs": [],
   "source": []
  },
  {
   "cell_type": "code",
   "execution_count": null,
   "metadata": {},
   "outputs": [],
   "source": []
  },
  {
   "cell_type": "code",
   "execution_count": null,
   "metadata": {},
   "outputs": [],
   "source": []
  },
  {
   "cell_type": "code",
   "execution_count": null,
   "metadata": {},
   "outputs": [],
   "source": []
  },
  {
   "cell_type": "code",
   "execution_count": null,
   "metadata": {},
   "outputs": [],
   "source": []
  },
  {
   "cell_type": "code",
   "execution_count": null,
   "metadata": {},
   "outputs": [],
   "source": []
  },
  {
   "cell_type": "code",
   "execution_count": null,
   "metadata": {},
   "outputs": [],
   "source": []
  },
  {
   "cell_type": "code",
   "execution_count": null,
   "metadata": {},
   "outputs": [],
   "source": []
  },
  {
   "cell_type": "code",
   "execution_count": null,
   "metadata": {},
   "outputs": [],
   "source": []
  },
  {
   "cell_type": "markdown",
   "metadata": {},
   "source": [
    "![](diagram.png)"
   ]
  },
  {
   "cell_type": "code",
   "execution_count": null,
   "metadata": {},
   "outputs": [],
   "source": []
  },
  {
   "cell_type": "code",
   "execution_count": null,
   "metadata": {},
   "outputs": [],
   "source": []
  },
  {
   "cell_type": "code",
   "execution_count": 101,
   "metadata": {},
   "outputs": [
    {
     "data": {
      "text/plain": [
       "linear_interpolation (generic function with 1 method)"
      ]
     },
     "execution_count": 101,
     "metadata": {},
     "output_type": "execute_result"
    }
   ],
   "source": [
    "function linear_interpolation(x1, y1, x2, y2, x)\n",
    "    @assert x1 != x2\n",
    "    m = (y2-y1)/(x2-x1)    # slpoe\n",
    "    y = y1 + m * (x-x1)    # \n",
    "    return(y)\n",
    "end"
   ]
  },
  {
   "cell_type": "code",
   "execution_count": 102,
   "metadata": {},
   "outputs": [
    {
     "data": {
      "text/plain": [
       "18.0"
      ]
     },
     "execution_count": 102,
     "metadata": {},
     "output_type": "execute_result"
    }
   ],
   "source": [
    "linear_interpolation(1,0,2,3,7)"
   ]
  },
  {
   "cell_type": "code",
   "execution_count": 103,
   "metadata": {},
   "outputs": [
    {
     "name": "stdout",
     "output_type": "stream",
     "text": [
      "\u001b[37m\u001b[1mTest Summary:        | \u001b[22m\u001b[39m\u001b[32m\u001b[1mPass  \u001b[22m\u001b[39m\u001b[36m\u001b[1mTotal\u001b[22m\u001b[39m\n",
      "linear_interpolation | \u001b[32m   5  \u001b[39m\u001b[36m    5\u001b[39m\n"
     ]
    }
   ],
   "source": [
    "@testset \"linear_interpolation\" begin\n",
    "    @test linear_interpolation(1.0, 10, 2.0, 11.0, 0.0) == 9 \n",
    "    @test linear_interpolation(1.0, 10, 2.0, 11.0, 1.0) == 10 \n",
    "    @test linear_interpolation(1.0, 10, 2.0, 11.0, 1.5) == 10.5\n",
    "    @test linear_interpolation(1.0, 10, 2.0, 11.0, 2.0) == 11\n",
    "    @test linear_interpolation(1.0, 10, 2.0, 11.0, 3.0) == 12\n",
    "end;"
   ]
  },
  {
   "cell_type": "code",
   "execution_count": null,
   "metadata": {},
   "outputs": [],
   "source": []
  },
  {
   "cell_type": "code",
   "execution_count": 104,
   "metadata": {},
   "outputs": [
    {
     "data": {
      "text/plain": [
       "sum_residuals_squared (generic function with 1 method)"
      ]
     },
     "execution_count": 104,
     "metadata": {},
     "output_type": "execute_result"
    }
   ],
   "source": [
    "function sum_residuals_squared(obs_data, obs_colx, obs_coly, \n",
    "          mod_data, mod_colx, mod_coly)\n",
    "    \n",
    "    # make sure everythin is in right order\n",
    "    sort!(obs_data, obs_colx)\n",
    "    sort!(mod_data, mod_colx)\n",
    "    \n",
    "    # make sure that there is enough data\n",
    "    @assert mod_data[1,              mod_colx] <= obs_data[1,              obs_colx]\n",
    "    @assert mod_data[nrow(mod_data), mod_colx] >  obs_data[nrow(obs_data), obs_colx]\n",
    "    \n",
    "    # sum of residuals squared\n",
    "    srs = 0.0\n",
    "    \n",
    "    mk = 1\n",
    "    for row in eachrow(obs_data)\n",
    "        x = row[obs_colx]\n",
    "        \n",
    "        mk = findnext(mx -> mx > x, mod_data[!, mod_colx], mk)\n",
    "        @assert !isnothing(mk) && mk >= 2\n",
    "        \n",
    "        x1 = mod_data[mk-1, mod_colx]\n",
    "        y1 = mod_data[mk-1, mod_coly]\n",
    "        x2 = mod_data[mk  , mod_colx]\n",
    "        y2 = mod_data[mk  , mod_coly]\n",
    "\n",
    "        y = linear_interpolation(x1, y1, x2, y2, x)\n",
    "        \n",
    "        srs += (row[obs_coly] - y)^2\n",
    "    end\n",
    "    \n",
    "    srs\n",
    "end"
   ]
  },
  {
   "cell_type": "code",
   "execution_count": 105,
   "metadata": {},
   "outputs": [
    {
     "name": "stdout",
     "output_type": "stream",
     "text": [
      "\u001b[37m\u001b[1mTest Summary:         | \u001b[22m\u001b[39m\u001b[32m\u001b[1mPass  \u001b[22m\u001b[39m\u001b[36m\u001b[1mTotal\u001b[22m\u001b[39m\n",
      "sum_residuals_squared | \u001b[32m   3  \u001b[39m\u001b[36m    3\u001b[39m\n"
     ]
    }
   ],
   "source": [
    "@testset \"sum_residuals_squared\" begin \n",
    "    L = 10000\n",
    "    t = rand(L)\n",
    "    mod = DataFrame(t = t, x = t)\n",
    "    \n",
    "    t = 0.5 .* rand(L) .+ 0.25 \n",
    "    obs = DataFrame(t = t, x = t)\n",
    "    @test sum_residuals_squared(obs,\"t\", \"x\", mod, \"t\", \"x\") == 0\n",
    "    \n",
    "    t = 0.5 .* rand(L) .+ 0.25 \n",
    "    obs = DataFrame(t = t, x = t .+ 1.0)\n",
    "    @test sum_residuals_squared(obs,\"t\", \"x\", mod, \"t\", \"x\") == L\n",
    "    \n",
    "    t = 0.5 .* rand(L) .+ 0.25 \n",
    "    obs = DataFrame(a = t, b = t .- 2.0)\n",
    "    @test sum_residuals_squared(obs, \"a\", \"b\", mod, \"t\", \"x\") == 4 * L\n",
    "end;"
   ]
  },
  {
   "cell_type": "code",
   "execution_count": 106,
   "metadata": {},
   "outputs": [
    {
     "data": {
      "image/png": "[encoded data removed]",
      "text/plain": [
       "Figure(PyObject <Figure size 640x480 with 1 Axes>)"
      ]
     },
     "metadata": {},
     "output_type": "display_data"
    },
    {
     "data": {
      "text/plain": [
       "PyObject <matplotlib.legend.Legend object at 0x90389770>"
      ]
     },
     "execution_count": 106,
     "metadata": {},
     "output_type": "execute_result"
    }
   ],
   "source": [
    "L = 20\n",
    "t = rand(L)\n",
    "mod = DataFrame(t = t, x = t)\n",
    "\n",
    "t = 0.5 .* rand(L) .+ 0.25 \n",
    "obs = DataFrame(t = t, x = t .+ 1)\n",
    "\n",
    "scatter(mod.t, mod.x, label = \"model\")\n",
    "scatter(obs.t, obs.x, label = \"observations\")\n",
    "legend()"
   ]
  },
  {
   "cell_type": "code",
   "execution_count": 107,
   "metadata": {},
   "outputs": [
    {
     "data": {
      "text/plain": [
       "20.0"
      ]
     },
     "execution_count": 107,
     "metadata": {},
     "output_type": "execute_result"
    }
   ],
   "source": [
    "sum_residuals_squared(obs,\"t\", \"x\", mod, \"t\", \"x\")"
   ]
  },
  {
   "cell_type": "markdown",
   "metadata": {},
   "source": [
    "# Friction - 1d"
   ]
  },
  {
   "cell_type": "code",
   "execution_count": null,
   "metadata": {},
   "outputs": [],
   "source": []
  },
  {
   "cell_type": "code",
   "execution_count": 108,
   "metadata": {},
   "outputs": [],
   "source": [
    "tend = 5\n",
    "dt = 0.0001\n",
    "\n",
    "μ = 1.5  # = 0.5 * flaeche * ... \n",
    "\n",
    "data = DataFrame(t = 0.0, x = 0.0, v = 3.0)\n",
    "\n",
    "while true\n",
    "    state = data[nrow(data),:]\n",
    "    \n",
    "    f_friction = - μ * state.v^2 \n",
    "    \n",
    "    t = state.t + dt\n",
    "    x = state.x + state.v * dt\n",
    "    v = state.v + f_friction * dt\n",
    "    \n",
    "    \n",
    "    push!(data, (t, x, v))\n",
    "    t >= tend && break\n",
    "end"
   ]
  },
  {
   "cell_type": "code",
   "execution_count": 109,
   "metadata": {},
   "outputs": [],
   "source": [
    "t_obs = rand(1:nrow(data), 20)\n",
    "obs = data[t_obs, :];"
   ]
  },
  {
   "cell_type": "code",
   "execution_count": 110,
   "metadata": {},
   "outputs": [],
   "source": [
    "obs[!, \"x_with_noise\"] .= obs[!, \"x\"] .+ 0.05 .* randn(nrow(obs));"
   ]
  },
  {
   "cell_type": "code",
   "execution_count": 111,
   "metadata": {},
   "outputs": [
    {
     "data": {
      "text/html": [
       "<table class=\"data-frame\"><thead><tr><th></th><th>t</th><th>x</th><th>v</th><th>x_with_noise</th></tr><tr><th></th><th>Float64</th><th>Float64</th><th>Float64</th><th>Float64</th></tr></thead><tbody><p>20 rows × 4 columns</p><tr><th>1</th><td>3.9237</td><td>1.95071</td><td>0.160789</td><td>1.8764</td></tr><tr><th>2</th><td>0.2579</td><td>0.513602</td><td>1.38831</td><td>0.485896</td></tr><tr><th>3</th><td>0.828</td><td>1.03537</td><td>0.634692</td><td>0.979452</td></tr><tr><th>4</th><td>3.0957</td><td>1.80219</td><td>0.200913</td><td>1.7221</td></tr><tr><th>5</th><td>1.1798</td><td>1.22796</td><td>0.475441</td><td>1.22743</td></tr><tr><th>6</th><td>1.2814</td><td>1.27459</td><td>0.443317</td><td>1.25066</td></tr><tr><th>7</th><td>1.0168</td><td>1.14557</td><td>0.537984</td><td>1.14693</td></tr><tr><th>8</th><td>4.9078</td><td>2.09269</td><td>0.129946</td><td>2.08268</td></tr><tr><th>9</th><td>2.1861</td><td>1.5886</td><td>0.27679</td><td>1.61713</td></tr><tr><th>10</th><td>3.0606</td><td>1.7951</td><td>0.203061</td><td>1.75718</td></tr><tr><th>11</th><td>4.6769</td><td>2.06199</td><td>0.13607</td><td>2.08067</td></tr><tr><th>12</th><td>2.9482</td><td>1.77188</td><td>0.210259</td><td>1.78822</td></tr><tr><th>13</th><td>4.1908</td><td>1.99233</td><td>0.151058</td><td>2.09577</td></tr><tr><th>14</th><td>4.4503</td><td>2.03042</td><td>0.142669</td><td>2.02488</td></tr><tr><th>15</th><td>2.7051</td><td>1.7187</td><td>0.227719</td><td>1.67528</td></tr><tr><th>16</th><td>1.8745</td><td>1.49624</td><td>0.317923</td><td>1.54554</td></tr><tr><th>17</th><td>0.9913</td><td>1.13171</td><td>0.549288</td><td>1.11416</td></tr><tr><th>18</th><td>1.6972</td><td>1.43734</td><td>0.347288</td><td>1.38432</td></tr><tr><th>19</th><td>0.8121</td><td>1.0252</td><td>0.644449</td><td>1.06396</td></tr><tr><th>20</th><td>0.4731</td><td>0.760472</td><td>0.958631</td><td>0.682324</td></tr></tbody></table>"
      ],
      "text/latex": [
       "\\begin{tabular}{r|cccc}\n",
       "\t& t & x & v & x\\_with\\_noise\\\\\n",
       "\t\\hline\n",
       "\t& Float64 & Float64 & Float64 & Float64\\\\\n",
       "\t\\hline\n",
       "\t1 & 3.9237 & 1.95071 & 0.160789 & 1.8764 \\\\\n",
       "\t2 & 0.2579 & 0.513602 & 1.38831 & 0.485896 \\\\\n",
       "\t3 & 0.828 & 1.03537 & 0.634692 & 0.979452 \\\\\n",
       "\t4 & 3.0957 & 1.80219 & 0.200913 & 1.7221 \\\\\n",
       "\t5 & 1.1798 & 1.22796 & 0.475441 & 1.22743 \\\\\n",
       "\t6 & 1.2814 & 1.27459 & 0.443317 & 1.25066 \\\\\n",
       "\t7 & 1.0168 & 1.14557 & 0.537984 & 1.14693 \\\\\n",
       "\t8 & 4.9078 & 2.09269 & 0.129946 & 2.08268 \\\\\n",
       "\t9 & 2.1861 & 1.5886 & 0.27679 & 1.61713 \\\\\n",
       "\t10 & 3.0606 & 1.7951 & 0.203061 & 1.75718 \\\\\n",
       "\t11 & 4.6769 & 2.06199 & 0.13607 & 2.08067 \\\\\n",
       "\t12 & 2.9482 & 1.77188 & 0.210259 & 1.78822 \\\\\n",
       "\t13 & 4.1908 & 1.99233 & 0.151058 & 2.09577 \\\\\n",
       "\t14 & 4.4503 & 2.03042 & 0.142669 & 2.02488 \\\\\n",
       "\t15 & 2.7051 & 1.7187 & 0.227719 & 1.67528 \\\\\n",
       "\t16 & 1.8745 & 1.49624 & 0.317923 & 1.54554 \\\\\n",
       "\t17 & 0.9913 & 1.13171 & 0.549288 & 1.11416 \\\\\n",
       "\t18 & 1.6972 & 1.43734 & 0.347288 & 1.38432 \\\\\n",
       "\t19 & 0.8121 & 1.0252 & 0.644449 & 1.06396 \\\\\n",
       "\t20 & 0.4731 & 0.760472 & 0.958631 & 0.682324 \\\\\n",
       "\\end{tabular}\n"
      ],
      "text/plain": [
       "20×4 DataFrame\n",
       "│ Row │ t       │ x        │ v        │ x_with_noise │\n",
       "│     │ \u001b[90mFloat64\u001b[39m │ \u001b[90mFloat64\u001b[39m  │ \u001b[90mFloat64\u001b[39m  │ \u001b[90mFloat64\u001b[39m      │\n",
       "├─────┼─────────┼──────────┼──────────┼──────────────┤\n",
       "│ 1   │ 3.9237  │ 1.95071  │ 0.160789 │ 1.8764       │\n",
       "│ 2   │ 0.2579  │ 0.513602 │ 1.38831  │ 0.485896     │\n",
       "│ 3   │ 0.828   │ 1.03537  │ 0.634692 │ 0.979452     │\n",
       "│ 4   │ 3.0957  │ 1.80219  │ 0.200913 │ 1.7221       │\n",
       "│ 5   │ 1.1798  │ 1.22796  │ 0.475441 │ 1.22743      │\n",
       "│ 6   │ 1.2814  │ 1.27459  │ 0.443317 │ 1.25066      │\n",
       "│ 7   │ 1.0168  │ 1.14557  │ 0.537984 │ 1.14693      │\n",
       "│ 8   │ 4.9078  │ 2.09269  │ 0.129946 │ 2.08268      │\n",
       "│ 9   │ 2.1861  │ 1.5886   │ 0.27679  │ 1.61713      │\n",
       "│ 10  │ 3.0606  │ 1.7951   │ 0.203061 │ 1.75718      │\n",
       "│ 11  │ 4.6769  │ 2.06199  │ 0.13607  │ 2.08067      │\n",
       "│ 12  │ 2.9482  │ 1.77188  │ 0.210259 │ 1.78822      │\n",
       "│ 13  │ 4.1908  │ 1.99233  │ 0.151058 │ 2.09577      │\n",
       "│ 14  │ 4.4503  │ 2.03042  │ 0.142669 │ 2.02488      │\n",
       "│ 15  │ 2.7051  │ 1.7187   │ 0.227719 │ 1.67528      │\n",
       "│ 16  │ 1.8745  │ 1.49624  │ 0.317923 │ 1.54554      │\n",
       "│ 17  │ 0.9913  │ 1.13171  │ 0.549288 │ 1.11416      │\n",
       "│ 18  │ 1.6972  │ 1.43734  │ 0.347288 │ 1.38432      │\n",
       "│ 19  │ 0.8121  │ 1.0252   │ 0.644449 │ 1.06396      │\n",
       "│ 20  │ 0.4731  │ 0.760472 │ 0.958631 │ 0.682324     │"
      ]
     },
     "execution_count": 111,
     "metadata": {},
     "output_type": "execute_result"
    }
   ],
   "source": [
    "obs"
   ]
  },
  {
   "cell_type": "code",
   "execution_count": 112,
   "metadata": {},
   "outputs": [
    {
     "data": {
      "image/png": "[encoded data removed]",
      "text/plain": [
       "Figure(PyObject <Figure size 640x480 with 1 Axes>)"
      ]
     },
     "metadata": {},
     "output_type": "display_data"
    },
    {
     "data": {
      "text/plain": [
       "PyObject Text(24.000000000000007, 0.5, 'position')"
      ]
     },
     "execution_count": 112,
     "metadata": {},
     "output_type": "execute_result"
    }
   ],
   "source": [
    "plot(data.t, data.x ,linewidth = 1)\n",
    "plot(obs.t,  obs.x  ,linewidth = 0, marker = \"+\")\n",
    "plot(obs.t,  obs.x_with_noise  ,linewidth = 0, marker = \"+\")\n",
    "xlabel(\"time\")\n",
    "ylabel(\"position\")"
   ]
  },
  {
   "cell_type": "code",
   "execution_count": 113,
   "metadata": {},
   "outputs": [
    {
     "data": {
      "text/plain": [
       "data_model (generic function with 1 method)"
      ]
     },
     "execution_count": 113,
     "metadata": {},
     "output_type": "execute_result"
    }
   ],
   "source": [
    "function data_model(x0, v0, μ)\n",
    "    tend = 6\n",
    "    dt = 0.0001\n",
    "\n",
    "    data = DataFrame(t = 0.0, x = float(x0), v = float(v0))\n",
    "\n",
    "    while true\n",
    "        state = data[nrow(data),:]\n",
    "\n",
    "        f_friction = - μ * state.v^2 \n",
    "\n",
    "        t = state.t + dt\n",
    "        x = state.x + state.v * dt\n",
    "        v = state.v + f_friction * dt\n",
    "\n",
    "\n",
    "        push!(data, (t, x, v))\n",
    "        t >= tend && break\n",
    "    end\n",
    "    \n",
    "    data\n",
    "end"
   ]
  },
  {
   "cell_type": "code",
   "execution_count": 114,
   "metadata": {},
   "outputs": [
    {
     "data": {
      "text/plain": [
       "likelihood (generic function with 1 method)"
      ]
     },
     "execution_count": 114,
     "metadata": {},
     "output_type": "execute_result"
    }
   ],
   "source": [
    "function likelihood(parameter)\n",
    "    x0, v0, μ = parameter\n",
    "    mod = data_model(x0, v0, μ)\n",
    "    sum_residuals_squared(obs, \"t\", \"x_with_noise\", mod, \"t\", \"x\")\n",
    "end"
   ]
  },
  {
   "cell_type": "code",
   "execution_count": 115,
   "metadata": {},
   "outputs": [
    {
     "data": {
      "text/plain": [
       "likelihood_no_friction (generic function with 1 method)"
      ]
     },
     "execution_count": 115,
     "metadata": {},
     "output_type": "execute_result"
    }
   ],
   "source": [
    "function likelihood_no_friction(parameter)\n",
    "    x0, v0 = parameter\n",
    "    mod = data_model(x0, v0, 0)\n",
    "    sum_residuals_squared(obs, \"t\", \"x_with_noise\", mod, \"t\", \"x\")\n",
    "end"
   ]
  },
  {
   "cell_type": "code",
   "execution_count": 116,
   "metadata": {},
   "outputs": [
    {
     "data": {
      "text/plain": [
       "15.140477814839603"
      ]
     },
     "execution_count": 116,
     "metadata": {},
     "output_type": "execute_result"
    }
   ],
   "source": [
    "likelihood([0,3,5])"
   ]
  },
  {
   "cell_type": "code",
   "execution_count": 117,
   "metadata": {},
   "outputs": [
    {
     "name": "stdout",
     "output_type": "stream",
     "text": [
      "res = optimize(likelihood, [0.2, 1, 1]) =  * Status: success\n",
      "\n",
      " * Candidate solution\n",
      "    Minimizer: [-8.67e-02, 3.38e+00, 1.49e+00]\n",
      "    Minimum:   3.998345e-02\n",
      "\n",
      " * Found with\n",
      "    Algorithm:     Nelder-Mead\n",
      "    Initial Point: [2.00e-01, 1.00e+00, 1.00e+00]\n",
      "\n",
      " * Convergence measures\n",
      "    √(Σ(yᵢ-ȳ)²)/n ≤ 1.0e-08\n",
      "\n",
      " * Work counters\n",
      "    Seconds run:   70  (vs limit Inf)\n",
      "    Iterations:    103\n",
      "    f(x) calls:    178\n",
      "\n"
     ]
    },
    {
     "data": {
      "text/plain": [
       "3-element Array{Float64,1}:\n",
       " -0.08671428553210819\n",
       "  3.3774803197251697\n",
       "  1.491788616310024"
      ]
     },
     "execution_count": 117,
     "metadata": {},
     "output_type": "execute_result"
    }
   ],
   "source": [
    "@show res = optimize(likelihood, [0.2, 1, 1])\n",
    "para = Optim.minimizer(res)"
   ]
  },
  {
   "cell_type": "code",
   "execution_count": 118,
   "metadata": {},
   "outputs": [
    {
     "name": "stdout",
     "output_type": "stream",
     "text": [
      "res = optimize(likelihood_no_friction, [0.2, 1]) =  * Status: success\n",
      "\n",
      " * Candidate solution\n",
      "    Minimizer: [7.82e-01, 3.00e-01]\n",
      "    Minimum:   3.872792e-01\n",
      "\n",
      " * Found with\n",
      "    Algorithm:     Nelder-Mead\n",
      "    Initial Point: [2.00e-01, 1.00e+00]\n",
      "\n",
      " * Convergence measures\n",
      "    √(Σ(yᵢ-ȳ)²)/n ≤ 1.0e-08\n",
      "\n",
      " * Work counters\n",
      "    Seconds run:   29  (vs limit Inf)\n",
      "    Iterations:    34\n",
      "    f(x) calls:    71\n",
      "\n"
     ]
    },
    {
     "data": {
      "text/plain": [
       "2-element Array{Float64,1}:\n",
       " 0.7821082017116671\n",
       " 0.2998196791800604"
      ]
     },
     "execution_count": 118,
     "metadata": {},
     "output_type": "execute_result"
    }
   ],
   "source": [
    "@show res = optimize(likelihood_no_friction, [0.2, 1])\n",
    "para_no_friction = Optim.minimizer(res)"
   ]
  },
  {
   "cell_type": "code",
   "execution_count": 56,
   "metadata": {},
   "outputs": [
    {
     "data": {
      "image/png": "[encoded data removed]",
      "text/plain": [
       "Figure(PyObject <Figure size 640x480 with 1 Axes>)"
      ]
     },
     "metadata": {},
     "output_type": "display_data"
    }
   ],
   "source": [
    "plot(obs.t,  obs.x_with_noise  ,linewidth = 0, marker = \"+\", label=\"observed data\")\n",
    "\n",
    "mod = data_model(para ...)\n",
    "plot(mod.t, mod.x ,linewidth = 1,label=\"model with friction\")\n",
    "\n",
    "\n",
    "mod = data_model(para_no_friction[1], para_no_friction[2], 0)\n",
    "plot(mod.t, mod.x ,linewidth = 1,label=\"model w/o friction\")\n",
    "\n",
    "\n",
    "xlabel(\"time\")\n",
    "ylabel(\"position\")\n",
    "legend();"
   ]
  },
  {
   "cell_type": "code",
   "execution_count": 57,
   "metadata": {},
   "outputs": [
    {
     "data": {
      "text/html": [
       "<p>DataFrameRow (4 columns)</p><table class=\"data-frame\"><thead><tr><th></th><th>t</th><th>x</th><th>v</th><th>x_with_noise</th></tr><tr><th></th><th>Float64</th><th>Float64</th><th>Float64</th><th>Float64</th></tr></thead><tbody><tr><th>20</th><td>4.8262</td><td>2.082</td><td>0.132046</td><td>2.0066</td></tr></tbody></table>"
      ],
      "text/latex": [
       "\\begin{tabular}{r|cccc}\n",
       "\t& t & x & v & x\\_with\\_noise\\\\\n",
       "\t\\hline\n",
       "\t& Float64 & Float64 & Float64 & Float64\\\\\n",
       "\t\\hline\n",
       "\t20 & 4.8262 & 2.082 & 0.132046 & 2.0066 \\\\\n",
       "\\end{tabular}\n"
      ],
      "text/plain": [
       "DataFrameRow\n",
       "│ Row │ t       │ x       │ v        │ x_with_noise │\n",
       "│     │ \u001b[90mFloat64\u001b[39m │ \u001b[90mFloat64\u001b[39m │ \u001b[90mFloat64\u001b[39m  │ \u001b[90mFloat64\u001b[39m      │\n",
       "├─────┼─────────┼─────────┼──────────┼──────────────┤\n",
       "│ 20  │ 4.8262  │ 2.082   │ 0.132046 │ 2.0066       │"
      ]
     },
     "execution_count": 57,
     "metadata": {},
     "output_type": "execute_result"
    }
   ],
   "source": [
    "obs[nrow(obs), : ]"
   ]
  },
  {
   "cell_type": "code",
   "execution_count": null,
   "metadata": {},
   "outputs": [],
   "source": []
  },
  {
   "cell_type": "code",
   "execution_count": null,
   "metadata": {},
   "outputs": [],
   "source": []
  },
  {
   "cell_type": "code",
   "execution_count": null,
   "metadata": {},
   "outputs": [],
   "source": []
  }
 ],
 "metadata": {
  "kernelspec": {
   "display_name": "Julia 1.4.1",
   "language": "julia",
   "name": "julia-1.4"
  },
  "language_info": {
   "file_extension": ".jl",
   "mimetype": "application/julia",
   "name": "julia",
   "version": "1.4.1"
  }
 },
 "nbformat": 4,
 "nbformat_minor": 4
}
